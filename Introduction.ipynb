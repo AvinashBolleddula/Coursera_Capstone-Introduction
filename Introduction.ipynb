{
    "cells": [
        {
            "cell_type": "markdown",
            "metadata": {
                "collapsed": true
            },
            "source": "# INTRODUCTION & BUSINESS PROBLEM\n\n#### This is in brief about the business problem and what my model does..!!"
        },
        {
            "cell_type": "markdown",
            "metadata": {},
            "source": "1;In an effort to reduce the frequency of car collisions in a community, an algorithim will be developed to predict the severity of an accident given the current weather, road and visibility conditions. \n\n2;When conditions are bad, this model will alert drivers to remind them to be more careful.\n\n"
        },
        {
            "cell_type": "code",
            "execution_count": null,
            "metadata": {},
            "outputs": [],
            "source": ""
        }
    ],
    "metadata": {
        "kernelspec": {
            "display_name": "Python 3.6",
            "language": "python",
            "name": "python3"
        },
        "language_info": {
            "codemirror_mode": {
                "name": "ipython",
                "version": 3
            },
            "file_extension": ".py",
            "mimetype": "text/x-python",
            "name": "python",
            "nbconvert_exporter": "python",
            "pygments_lexer": "ipython3",
            "version": "3.6.9"
        }
    },
    "nbformat": 4,
    "nbformat_minor": 1
}